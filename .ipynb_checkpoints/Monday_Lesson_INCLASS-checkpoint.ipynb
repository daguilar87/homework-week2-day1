{
 "cells": [
  {
   "cell_type": "markdown",
   "metadata": {},
   "source": [
    "# Week 2 - Monday Lesson (variable assignment, loops, lists)"
   ]
  },
  {
   "cell_type": "markdown",
   "metadata": {},
   "source": [
    "## Tasks Today:\n",
    "\n",
    "1) Int & Float assignments <br>\n",
    " &nbsp;&nbsp;&nbsp;&nbsp; a) Assigning int <br>\n",
    " &nbsp;&nbsp;&nbsp;&nbsp; b) Assigning float <br>\n",
    " &nbsp;&nbsp;&nbsp;&nbsp; c) Performing Calculations on ints and floats <br>\n",
    " &nbsp;&nbsp;&nbsp;&nbsp;&nbsp;&nbsp;&nbsp;&nbsp; - Addition <br>\n",
    " &nbsp;&nbsp;&nbsp;&nbsp;&nbsp;&nbsp;&nbsp;&nbsp; - Subtraction <br>\n",
    " &nbsp;&nbsp;&nbsp;&nbsp;&nbsp;&nbsp;&nbsp;&nbsp; - Multiplication <br>\n",
    " &nbsp;&nbsp;&nbsp;&nbsp;&nbsp;&nbsp;&nbsp;&nbsp; - Division <br>\n",
    " &nbsp;&nbsp;&nbsp;&nbsp;&nbsp;&nbsp;&nbsp;&nbsp; - Floor Division <br>\n",
    " &nbsp;&nbsp;&nbsp;&nbsp;&nbsp;&nbsp;&nbsp;&nbsp; - Modulo <br>\n",
    " &nbsp;&nbsp;&nbsp;&nbsp;&nbsp;&nbsp;&nbsp;&nbsp; - Exponential <br>\n",
    "2) String Input-Output <br>\n",
    " &nbsp;&nbsp;&nbsp;&nbsp; a) String Assignment <br>\n",
    " &nbsp;&nbsp;&nbsp;&nbsp; b) print() <br>\n",
    " &nbsp;&nbsp;&nbsp;&nbsp; c) String Concatenation <br>\n",
    " &nbsp;&nbsp;&nbsp;&nbsp; d) Type Conversion <br>\n",
    " &nbsp;&nbsp;&nbsp;&nbsp; e) input() <br>\n",
    " &nbsp;&nbsp;&nbsp;&nbsp; f) format() <br>\n",
    " &nbsp;&nbsp;&nbsp;&nbsp; g) Old Way (python 2) <br>\n",
    "3) <b>In-Class Exercise #1</b> <br>\n",
    "4) If Statements <br>\n",
    " &nbsp;&nbsp;&nbsp;&nbsp; a) 'is' keyword <br>\n",
    " &nbsp;&nbsp;&nbsp;&nbsp; b) 'in' keyword <br>\n",
    " &nbsp;&nbsp;&nbsp;&nbsp; c) 'not in' keyword <br>\n",
    "5) <b>In-Class Exercise #2</b> <br>\n",
    "6) Elif Statements <br>\n",
    "7) Else Statements <br>\n",
    "8) <b>In-Class Exercise #3</b> <br>\n",
    "9) For Loops <br>\n",
    " &nbsp;&nbsp;&nbsp;&nbsp; a) Using 'in' keyword <br>\n",
    " &nbsp;&nbsp;&nbsp;&nbsp; b) Continue Statement <br>\n",
    " &nbsp;&nbsp;&nbsp;&nbsp; c) Break Statement <br>\n",
    " &nbsp;&nbsp;&nbsp;&nbsp; d) Pass Statement <br>\n",
    " &nbsp;&nbsp;&nbsp;&nbsp; e) Double For Loops <br>\n",
    "10) While Loops <br>\n",
    " &nbsp;&nbsp;&nbsp;&nbsp; a) Looping 'While True' <br>\n",
    " &nbsp;&nbsp;&nbsp;&nbsp; b) While and For Loops Used Together <br>\n",
    "11) Built-In Functions <br>\n",
    " &nbsp;&nbsp;&nbsp;&nbsp; a) range() <br>\n",
    " &nbsp;&nbsp;&nbsp;&nbsp; b) len() <br>\n",
    " &nbsp;&nbsp;&nbsp;&nbsp; c) help() <br>\n",
    " &nbsp;&nbsp;&nbsp;&nbsp; d) isinstance() <br>\n",
    " &nbsp;&nbsp;&nbsp;&nbsp; e) abs() <br>\n",
    "12) Try and Except <br>\n",
    "13) Lists <br>\n",
    " &nbsp;&nbsp;&nbsp;&nbsp; a) Declaring Lists <br>\n",
    " &nbsp;&nbsp;&nbsp;&nbsp; b) Indexing a List <br>\n",
    " &nbsp;&nbsp;&nbsp;&nbsp; c) .append() <br>\n",
    " &nbsp;&nbsp;&nbsp;&nbsp; d) .insert() <br>\n",
    " &nbsp;&nbsp;&nbsp;&nbsp; e) .pop() <br>\n",
    " &nbsp;&nbsp;&nbsp;&nbsp; f) .remove() <br>\n",
    " &nbsp;&nbsp;&nbsp;&nbsp; g) del() <br>\n",
    " &nbsp;&nbsp;&nbsp;&nbsp; h) Concatenating Two Lists <br>\n",
    " &nbsp;&nbsp;&nbsp;&nbsp; i) Lists Within Lists <br>\n",
    " &nbsp;&nbsp;&nbsp;&nbsp; j) Looping Through Lists <br>"
   ]
  },
  {
   "cell_type": "markdown",
   "metadata": {},
   "source": [
    "### Int & Float Assignments"
   ]
  },
  {
   "cell_type": "markdown",
   "metadata": {},
   "source": [
    "##### Assigning int"
   ]
  },
  {
   "cell_type": "code",
   "execution_count": 2,
   "metadata": {},
   "outputs": [
    {
     "data": {
      "text/plain": [
       "6"
      ]
     },
     "execution_count": 2,
     "metadata": {},
     "output_type": "execute_result"
    }
   ],
   "source": [
    "num = 6\n",
    "\n",
    "num"
   ]
  },
  {
   "cell_type": "markdown",
   "metadata": {},
   "source": [
    "##### Assinging float"
   ]
  },
  {
   "cell_type": "code",
   "execution_count": 1,
   "metadata": {},
   "outputs": [
    {
     "data": {
      "text/plain": [
       "6.667"
      ]
     },
     "execution_count": 1,
     "metadata": {},
     "output_type": "execute_result"
    }
   ],
   "source": [
    "numfloat = 6.667\n",
    "\n",
    "numfloat"
   ]
  },
  {
   "cell_type": "markdown",
   "metadata": {},
   "source": [
    "#### Performing Calculations on ints and floats"
   ]
  },
  {
   "cell_type": "markdown",
   "metadata": {},
   "source": [
    "##### Addition"
   ]
  },
  {
   "cell_type": "code",
   "execution_count": 13,
   "metadata": {},
   "outputs": [
    {
     "name": "stdout",
     "output_type": "stream",
     "text": [
      "13.5\n"
     ]
    }
   ],
   "source": [
    "num1 = 3\n",
    "num2 = 5.5\n",
    "num3 = 10\n",
    "result = num1 + num2\n",
    "result\n",
    "#shorthand\n",
    "# +=\n",
    "\n",
    "result +=5\n",
    "print(result)\n"
   ]
  },
  {
   "cell_type": "markdown",
   "metadata": {},
   "source": [
    "##### Subtraction"
   ]
  },
  {
   "cell_type": "code",
   "execution_count": 11,
   "metadata": {},
   "outputs": [
    {
     "name": "stdout",
     "output_type": "stream",
     "text": [
      "-2.5\n"
     ]
    }
   ],
   "source": [
    "diff_result = num1 - num2\n",
    "\n",
    "print(diff_result)"
   ]
  },
  {
   "cell_type": "markdown",
   "metadata": {},
   "source": [
    "##### Multiplication"
   ]
  },
  {
   "cell_type": "code",
   "execution_count": 14,
   "metadata": {},
   "outputs": [
    {
     "name": "stdout",
     "output_type": "stream",
     "text": [
      "30\n"
     ]
    }
   ],
   "source": [
    "result_mul = num1 * num3\n",
    "\n",
    "print(result_mul)"
   ]
  },
  {
   "cell_type": "markdown",
   "metadata": {},
   "source": [
    "##### Division"
   ]
  },
  {
   "cell_type": "code",
   "execution_count": 15,
   "metadata": {},
   "outputs": [
    {
     "name": "stdout",
     "output_type": "stream",
     "text": [
      "3.3333333333333335\n",
      "10.0\n"
     ]
    }
   ],
   "source": [
    "result_div = num3/num1\n",
    "\n",
    "print(result_div)\n",
    "print(100/10)"
   ]
  },
  {
   "cell_type": "markdown",
   "metadata": {},
   "source": [
    "##### Floor Division"
   ]
  },
  {
   "cell_type": "code",
   "execution_count": null,
   "metadata": {},
   "outputs": [],
   "source": [
    "result_floor = num3//num1\n",
    "print(result_floor)\n",
    "\n",
    "print(99//10)\n",
    "\n",
    "# Shorthand //=\n",
    "\n",
    "#will always round down to closet integer"
   ]
  },
  {
   "cell_type": "markdown",
   "metadata": {},
   "source": [
    "##### Modulo"
   ]
  },
  {
   "cell_type": "code",
   "execution_count": 16,
   "metadata": {},
   "outputs": [
    {
     "name": "stdout",
     "output_type": "stream",
     "text": [
      "1\n"
     ]
    }
   ],
   "source": [
    "result_mod = num3 % num1\n",
    "\n",
    "print(result_mod)\n",
    "\n",
    "#shorthand %="
   ]
  },
  {
   "cell_type": "markdown",
   "metadata": {},
   "source": [
    "##### Exponential"
   ]
  },
  {
   "cell_type": "code",
   "execution_count": 17,
   "metadata": {},
   "outputs": [
    {
     "name": "stdout",
     "output_type": "stream",
     "text": [
      "25\n"
     ]
    }
   ],
   "source": [
    "square = 5**2\n",
    "\n",
    "print(square)\n",
    "\n",
    "#shorthand **=\n",
    "\n"
   ]
  },
  {
   "cell_type": "markdown",
   "metadata": {},
   "source": [
    "### String Input-Output"
   ]
  },
  {
   "cell_type": "markdown",
   "metadata": {},
   "source": [
    "##### String Assignment"
   ]
  },
  {
   "cell_type": "code",
   "execution_count": 18,
   "metadata": {},
   "outputs": [
    {
     "name": "stdout",
     "output_type": "stream",
     "text": [
      "Hi \n",
      "Daniel\n"
     ]
    }
   ],
   "source": [
    "name = 'Daniel'\n",
    "randomname = 'Brandt'\n",
    "\n",
    "print('Hi ')\n",
    "print(name)"
   ]
  },
  {
   "cell_type": "markdown",
   "metadata": {},
   "source": [
    "##### print() <br>\n",
    "<p>Don't forget about end=' '</p>"
   ]
  },
  {
   "cell_type": "code",
   "execution_count": 20,
   "metadata": {},
   "outputs": [
    {
     "name": "stdout",
     "output_type": "stream",
     "text": [
      "Hi my name is Daniel\n",
      "Full Name: DanielAguilar"
     ]
    }
   ],
   "source": [
    "print('Hi my name is', name)\n",
    "\n",
    "print('Full Name:', name, end='Aguilar')\n",
    "\n",
    "# sep='<throw a seperator in here!>'"
   ]
  },
  {
   "cell_type": "markdown",
   "metadata": {},
   "source": [
    "##### String Concatenation"
   ]
  },
  {
   "cell_type": "code",
   "execution_count": 22,
   "metadata": {},
   "outputs": [
    {
     "data": {
      "text/plain": [
       "'Jonah Hill'"
      ]
     },
     "execution_count": 22,
     "metadata": {},
     "output_type": "execute_result"
    }
   ],
   "source": [
    "first_name = 'Jonah'\n",
    "last_name = 'Hill'\n",
    "\n",
    "full_name = first_name + ' ' + last_name\n",
    "# shorthand still applies\n",
    "full_name += 'isanactor'\n",
    "print(full_name)"
   ]
  },
  {
   "cell_type": "markdown",
   "metadata": {},
   "source": [
    "##### Type Conversion"
   ]
  },
  {
   "cell_type": "code",
   "execution_count": 24,
   "metadata": {},
   "outputs": [
    {
     "name": "stdout",
     "output_type": "stream",
     "text": [
      "<class 'str'> 67\n",
      "<class 'int'> 67\n",
      "<class 'float'> 67.0\n"
     ]
    }
   ],
   "source": [
    "string_num = '67'\n",
    "print(type(string_num), string_num)\n",
    "x= int(string_num)\n",
    "y= float(string_num)\n",
    "\n",
    "print(type(x), x)\n",
    "print(type(y), y)"
   ]
  },
  {
   "cell_type": "markdown",
   "metadata": {},
   "source": [
    "##### input()"
   ]
  },
  {
   "cell_type": "code",
   "execution_count": 25,
   "metadata": {},
   "outputs": [
    {
     "name": "stdout",
     "output_type": "stream",
     "text": [
      "type your age29\n",
      "29 <class 'str'>\n"
     ]
    }
   ],
   "source": [
    "#the main thing to remember about input() is that it always returns a string\n",
    "\n",
    "som_input = input('type your age')\n",
    "\n",
    "print(som_input, type(som_input))"
   ]
  },
  {
   "cell_type": "markdown",
   "metadata": {},
   "source": [
    "##### format()"
   ]
  },
  {
   "cell_type": "code",
   "execution_count": 27,
   "metadata": {},
   "outputs": [
    {
     "name": "stdout",
     "output_type": "stream",
     "text": [
      "what is your age?29\n",
      "You're 29 years old Daniel \n",
      "You're 29 years old Daniel\n"
     ]
    }
   ],
   "source": [
    "age = input('what is your age?')\n",
    "\n",
    "result_string = 'You\\'re {} years old {} '.format(age, name)\n",
    "print(result_string)\n",
    "\n",
    "#Better, more modern way!\n",
    "#f-string\n",
    "other_result = f\"You're {age} years old {name}\"\n",
    "\n",
    "# basic f-string formula = f + quotes with python variables in {}\n",
    "print(other_result)"
   ]
  },
  {
   "cell_type": "markdown",
   "metadata": {},
   "source": [
    "##### Old Way (python 2)"
   ]
  },
  {
   "cell_type": "code",
   "execution_count": null,
   "metadata": {},
   "outputs": [],
   "source": []
  },
  {
   "cell_type": "markdown",
   "metadata": {},
   "source": [
    "# In-Class Exercise 1 <br>\n",
    "<p>Create a format statement that asks for color, year, make, model and prints out the results</p>"
   ]
  },
  {
   "cell_type": "code",
   "execution_count": 30,
   "metadata": {},
   "outputs": [
    {
     "name": "stdout",
     "output_type": "stream",
     "text": [
      "what color?blue\n",
      "what year?1998\n",
      "what make?dodge\n",
      "what model?charger\n",
      "What car is it? blue , 1998 , dodge , charger\n"
     ]
    }
   ],
   "source": [
    "color = input('what color?')\n",
    "year = input('what year?')\n",
    "make = input('what make?')\n",
    "model = input('what model?')\n",
    "\n",
    "print(f\"What car is it? {color} , {year} , {make} , {model}\")\n"
   ]
  },
  {
   "cell_type": "markdown",
   "metadata": {},
   "source": [
    "### If Statements"
   ]
  },
  {
   "cell_type": "code",
   "execution_count": 35,
   "metadata": {},
   "outputs": [
    {
     "name": "stdout",
     "output_type": "stream",
     "text": [
      "Not equal\n",
      "num2 is greater or maybe equal\n"
     ]
    }
   ],
   "source": [
    "# Available operators: Greater(>), Less(<),Equal(==)\n",
    "# Greater or Equal(>=), Less or Equal (<=)\n",
    "\n",
    "# Truth Tree:\n",
    "# T && F = F\n",
    "# T && T = T\n",
    "# T || F = T\n",
    "# F || T = T\n",
    "# F || F = F\n",
    "\n",
    "# a single = is assinging a value\n",
    "# a double == is checking for equality\n",
    "\n",
    "# my_var = 7\n",
    "# print(my_var == 7)\n",
    "\n",
    "\n",
    "num1 = 5\n",
    "num2 = 10\n",
    "\n",
    "if num2 == num1:\n",
    "    print('Equal!')\n",
    "else: \n",
    "    print('Not equal')\n",
    "    \n",
    "if num2 >= num1:\n",
    "    print('num2 is greater or maybe equal')\n",
    "elif num1 <= num2:\n",
    "    print('num1 is less than')"
   ]
  },
  {
   "cell_type": "markdown",
   "metadata": {},
   "source": [
    "##### 'is' keyword"
   ]
  },
  {
   "cell_type": "code",
   "execution_count": null,
   "metadata": {
    "scrolled": true
   },
   "outputs": [],
   "source": [
    "# We 'll use this when checking a similar/same object but not the same value!\n",
    "\n",
    "a_num = 34\n",
    "\n",
    "if a_num is 34:\n",
    "    print('this is the exact number/object')\n",
    "if a_num == 34:\n",
    "    print('this is the exact number/object')"
   ]
  },
  {
   "cell_type": "markdown",
   "metadata": {},
   "source": [
    "##### 'in' keyword"
   ]
  },
  {
   "cell_type": "code",
   "execution_count": null,
   "metadata": {},
   "outputs": [],
   "source": [
    "# Membership checks! \n",
    "\n",
    "new_name = 'Logan'\n",
    "\n",
    "if 'a' in new_name:\n",
    "    print('yep it is in there')\n",
    "\n"
   ]
  },
  {
   "cell_type": "markdown",
   "metadata": {},
   "source": [
    "##### 'not in' keyword'"
   ]
  },
  {
   "cell_type": "code",
   "execution_count": 37,
   "metadata": {},
   "outputs": [
    {
     "name": "stdout",
     "output_type": "stream",
     "text": [
      "It is NOT in there!\n"
     ]
    }
   ],
   "source": [
    "new_name = 'Logan'\n",
    "\n",
    "if 'z' not in new_name:\n",
    "    print('It is NOT in there!')"
   ]
  },
  {
   "cell_type": "markdown",
   "metadata": {},
   "source": [
    "# In-Class Exercise 2 <br>\n",
    "<p>Ask user for input, check to see if the letter 'p' is in the input</p>"
   ]
  },
  {
   "cell_type": "code",
   "execution_count": 40,
   "metadata": {},
   "outputs": [
    {
     "name": "stdout",
     "output_type": "stream",
     "text": [
      "what is your name?daniel\n",
      "there is no p in there!\n"
     ]
    }
   ],
   "source": [
    "name = input('what is your name?')\n",
    "if 'p' in name:\n",
    "        print('there is a p in there!')\n",
    "else:\n",
    "        print('there is no p in there!')"
   ]
  },
  {
   "cell_type": "markdown",
   "metadata": {},
   "source": [
    "## Using 'and'/'or' with If Statements"
   ]
  },
  {
   "cell_type": "code",
   "execution_count": 41,
   "metadata": {},
   "outputs": [
    {
     "name": "stdout",
     "output_type": "stream",
     "text": [
      "True and True\n",
      "True and False\n"
     ]
    }
   ],
   "source": [
    "nums1 = 15\n",
    "nums2 = 3\n",
    "nums3 = 10\n",
    "nums4 = 3\n",
    "\n",
    "# with the 'AND' statement\n",
    "if nums1 / 5 == nums2 and nums3 - 7 == nums4:\n",
    "    print('True and True')\n",
    "    \n",
    "# with 'OR' statement\n",
    "\n",
    "if nums1 > nums2 or nums3 == nums4:\n",
    "    print('True and False')\n"
   ]
  },
  {
   "cell_type": "markdown",
   "metadata": {},
   "source": [
    "### Elif Statements"
   ]
  },
  {
   "cell_type": "code",
   "execution_count": null,
   "metadata": {},
   "outputs": [],
   "source": [
    "# equality check --> ==\n",
    "# not equal check --> !=\n",
    "\n",
    "first_name = \"Max\"\n",
    "\n",
    "if first_name == 'Smith':\n",
    "    print('the name is Smith')\n",
    "elif first_name != 'Max':\n",
    "    print('name is NOT max')\n",
    "else:\n",
    "    print('This is what will print with the String max')"
   ]
  },
  {
   "cell_type": "markdown",
   "metadata": {},
   "source": [
    "### Else Statements"
   ]
  },
  {
   "cell_type": "code",
   "execution_count": null,
   "metadata": {},
   "outputs": [],
   "source": [
    "# see above\n",
    "# else is not required"
   ]
  },
  {
   "cell_type": "markdown",
   "metadata": {},
   "source": [
    "### For Loops"
   ]
  },
  {
   "cell_type": "code",
   "execution_count": 43,
   "metadata": {},
   "outputs": [
    {
     "name": "stdout",
     "output_type": "stream",
     "text": [
      "0\n",
      "1\n",
      "2\n",
      "3\n",
      "4\n",
      "5\n",
      "6\n",
      "7\n",
      "8\n",
      "9\n",
      "d\n",
      "a\n",
      "n\n",
      "i\n",
      "e\n",
      "l\n",
      "1\n",
      "2\n",
      "3\n",
      "4\n",
      "5\n",
      "6\n",
      "7\n",
      "8\n",
      "9\n"
     ]
    }
   ],
   "source": [
    "# for keyword, counter, in keyword, condition\n",
    "# for x in y\n",
    "for x in range(10):\n",
    "    print(x)\n",
    "for n in name:\n",
    "    print(n)\n",
    "num_list = '123456789'\n",
    "for n in num_list:\n",
    "    print(n)"
   ]
  },
  {
   "cell_type": "markdown",
   "metadata": {},
   "source": [
    "##### Using 'in' keyword"
   ]
  },
  {
   "cell_type": "code",
   "execution_count": null,
   "metadata": {},
   "outputs": [],
   "source": [
    "# see above"
   ]
  },
  {
   "cell_type": "markdown",
   "metadata": {},
   "source": [
    "##### Continue Statement"
   ]
  },
  {
   "cell_type": "code",
   "execution_count": null,
   "metadata": {},
   "outputs": [],
   "source": [
    "# will continue to next iteration"
   ]
  },
  {
   "cell_type": "code",
   "execution_count": 45,
   "metadata": {},
   "outputs": [
    {
     "name": "stdout",
     "output_type": "stream",
     "text": [
      "0\n",
      "1\n",
      "2\n",
      "3\n",
      "4\n",
      "6\n",
      "7\n",
      "8\n",
      "9\n",
      "10\n",
      "11\n",
      "12\n",
      "13\n",
      "14\n",
      "15\n",
      "16\n",
      "17\n",
      "18\n",
      "19\n"
     ]
    }
   ],
   "source": [
    "for i in range(20):\n",
    "    if i ==5:\n",
    "        continue\n",
    "    print(i)"
   ]
  },
  {
   "cell_type": "markdown",
   "metadata": {},
   "source": [
    "##### Break Statement"
   ]
  },
  {
   "cell_type": "code",
   "execution_count": null,
   "metadata": {},
   "outputs": [],
   "source": [
    "# will break out of current loop"
   ]
  },
  {
   "cell_type": "code",
   "execution_count": 46,
   "metadata": {},
   "outputs": [
    {
     "name": "stdout",
     "output_type": "stream",
     "text": [
      "0\n",
      "1\n",
      "2\n",
      "3\n",
      "4\n"
     ]
    }
   ],
   "source": [
    "for i in range(20):\n",
    "    if i ==5:\n",
    "        break\n",
    "    print(i)"
   ]
  },
  {
   "cell_type": "markdown",
   "metadata": {},
   "source": [
    "##### Pass Statement"
   ]
  },
  {
   "cell_type": "code",
   "execution_count": null,
   "metadata": {},
   "outputs": [],
   "source": [
    "# mostly used as a placeholder, and will continue on same iteration"
   ]
  },
  {
   "cell_type": "code",
   "execution_count": null,
   "metadata": {},
   "outputs": [],
   "source": [
    "for n in name:\n",
    "    pass  # TO DO need to come back and finish it "
   ]
  },
  {
   "cell_type": "markdown",
   "metadata": {},
   "source": [
    "##### Double For Loops"
   ]
  },
  {
   "cell_type": "code",
   "execution_count": null,
   "metadata": {},
   "outputs": [],
   "source": [
    "for i in range(5):\n",
    "    for j in range(5):\n",
    "        print(f'i={i}, j={j}')"
   ]
  },
  {
   "cell_type": "markdown",
   "metadata": {},
   "source": [
    "### While Loops"
   ]
  },
  {
   "cell_type": "code",
   "execution_count": 47,
   "metadata": {},
   "outputs": [
    {
     "name": "stdout",
     "output_type": "stream",
     "text": [
      "0\n",
      "1\n",
      "2\n",
      "3\n",
      "4\n",
      "5\n",
      "6\n",
      "7\n",
      "8\n",
      "9\n"
     ]
    }
   ],
   "source": [
    "# While keyword, condition statement\n",
    "\n",
    "v = 0\n",
    "while v < 10:\n",
    "    print(v)\n",
    "    v += 1"
   ]
  },
  {
   "cell_type": "markdown",
   "metadata": {},
   "source": [
    "##### Looping 'While True'"
   ]
  },
  {
   "cell_type": "code",
   "execution_count": null,
   "metadata": {},
   "outputs": [],
   "source": [
    "game_over = False\n",
    "\n",
    "while True:\n",
    "    print('Infinite Loop- DON\\t do this!!')\n",
    "    if game_over == False:\n",
    "        break"
   ]
  },
  {
   "cell_type": "markdown",
   "metadata": {},
   "source": [
    "##### While & For Loops Used Together"
   ]
  },
  {
   "cell_type": "code",
   "execution_count": 48,
   "metadata": {},
   "outputs": [
    {
     "name": "stdout",
     "output_type": "stream",
     "text": [
      "while loop iteration:0 \n",
      "\n",
      "for loop iteration:0\n",
      "for loop iteration:1\n",
      "for loop iteration:2\n",
      "while loop iteration:1 \n",
      "\n",
      "for loop iteration:0\n",
      "for loop iteration:1\n",
      "for loop iteration:2\n",
      "while loop iteration:2 \n",
      "\n",
      "for loop iteration:0\n",
      "for loop iteration:1\n",
      "for loop iteration:2\n",
      "while loop iteration:3 \n",
      "\n",
      "for loop iteration:0\n",
      "for loop iteration:1\n",
      "for loop iteration:2\n",
      "while loop iteration:4 \n",
      "\n",
      "for loop iteration:0\n",
      "for loop iteration:1\n",
      "for loop iteration:2\n"
     ]
    }
   ],
   "source": [
    "num = 0\n",
    "\n",
    "while num < 5:\n",
    "    print(f'while loop iteration:{num}', '\\n')\n",
    "\n",
    "    for x in range(3):\n",
    "        print(f'for loop iteration:{x}')\n",
    "    num += 1"
   ]
  },
  {
   "cell_type": "markdown",
   "metadata": {},
   "source": [
    "### Built-In Functions"
   ]
  },
  {
   "cell_type": "markdown",
   "metadata": {},
   "source": [
    "##### range()"
   ]
  },
  {
   "cell_type": "code",
   "execution_count": 100,
   "metadata": {},
   "outputs": [
    {
     "name": "stdout",
     "output_type": "stream",
     "text": [
      "0\n",
      "1\n",
      "2\n",
      "3\n",
      "4\n",
      "5\n",
      "6\n",
      "7\n",
      "8\n",
      "9\n",
      "/n\n",
      "0\n",
      "1\n",
      "2\n",
      "3\n",
      "4\n",
      "5\n",
      "6\n",
      "7\n",
      "8\n",
      "9\n",
      "/n\n",
      "1\n",
      "3\n",
      "5\n",
      "7\n",
      "9\n"
     ]
    }
   ],
   "source": [
    "# Start, Stop (non-inclusive), step\n",
    "for x in range(10):\n",
    "    print(x)\n",
    "print('/n')\n",
    "for x in range(0,10,1):\n",
    "    print(x)\n",
    "print('/n')    \n",
    "for x in range(1,10, 2):\n",
    "    print(x)"
   ]
  },
  {
   "cell_type": "markdown",
   "metadata": {},
   "source": [
    "##### len()"
   ]
  },
  {
   "cell_type": "code",
   "execution_count": null,
   "metadata": {},
   "outputs": [],
   "source": [
    "# for i in range(len(name)): # for n in name\n",
    "#     print(name[i], i)\n",
    "    \n",
    "print(len(name))"
   ]
  },
  {
   "cell_type": "markdown",
   "metadata": {},
   "source": [
    "##### help()"
   ]
  },
  {
   "cell_type": "code",
   "execution_count": null,
   "metadata": {},
   "outputs": [],
   "source": [
    "help(range)"
   ]
  },
  {
   "cell_type": "markdown",
   "metadata": {},
   "source": [
    "##### isinstance()"
   ]
  },
  {
   "cell_type": "code",
   "execution_count": 51,
   "metadata": {},
   "outputs": [
    {
     "name": "stdout",
     "output_type": "stream",
     "text": [
      "False\n"
     ]
    }
   ],
   "source": [
    "# check a variable to see if it's a member of an object family\n",
    "# isinstance(var, type)\n",
    "\n",
    "print(isinstance(4.5, int))\n",
    "\n",
    "if isinstance(4.5, int):\n",
    "    print(\"this is a float\")"
   ]
  },
  {
   "cell_type": "markdown",
   "metadata": {},
   "source": [
    "##### abs()"
   ]
  },
  {
   "cell_type": "code",
   "execution_count": 52,
   "metadata": {},
   "outputs": [
    {
     "name": "stdout",
     "output_type": "stream",
     "text": [
      "5\n"
     ]
    }
   ],
   "source": [
    "num = -5\n",
    "\n",
    "print(abs(num))"
   ]
  },
  {
   "cell_type": "markdown",
   "metadata": {},
   "source": [
    "### Try and Except"
   ]
  },
  {
   "cell_type": "code",
   "execution_count": null,
   "metadata": {},
   "outputs": [],
   "source": [
    "# # use this when we expect to encounter a bug but we dont want the program to stop/crash/ect.\n",
    "# try keyword: code to execute\n",
    "# except keyword: what to do\n",
    "\n",
    "try:\n",
    "    number_test = 0\n",
    "    input_num = int(input('Guess a number!'))\n",
    "    if input_num != number_test:\n",
    "        print(f\"Your number is {str(input_num)}\")\n",
    "    except: \n",
    "        print('that did not work!')"
   ]
  },
  {
   "cell_type": "markdown",
   "metadata": {},
   "source": [
    "### Lists"
   ]
  },
  {
   "cell_type": "markdown",
   "metadata": {},
   "source": [
    "##### Declaring Lists"
   ]
  },
  {
   "cell_type": "code",
   "execution_count": 54,
   "metadata": {},
   "outputs": [
    {
     "name": "stdout",
     "output_type": "stream",
     "text": [
      "[] <class 'list'>\n",
      "['Daniel', 'Daniel']\n"
     ]
    }
   ],
   "source": [
    "l_1 = []\n",
    "print(l_1, type(l_1))\n",
    "\n",
    "name_list = ['Daniel', 'Daniel']\n",
    "print(name_list)"
   ]
  },
  {
   "cell_type": "markdown",
   "metadata": {},
   "source": [
    "##### Indexing a List"
   ]
  },
  {
   "cell_type": "code",
   "execution_count": 55,
   "metadata": {},
   "outputs": [
    {
     "name": "stdout",
     "output_type": "stream",
     "text": [
      "0 Daniel\n",
      "1 Daniel\n"
     ]
    }
   ],
   "source": [
    "for i in range (len(name_list)):\n",
    "    print(i, name_list[i])"
   ]
  },
  {
   "cell_type": "code",
   "execution_count": null,
   "metadata": {},
   "outputs": [],
   "source": [
    "# bracket notation- []\n",
    "# to access a value- list[<index>]"
   ]
  },
  {
   "cell_type": "code",
   "execution_count": null,
   "metadata": {},
   "outputs": [],
   "source": []
  },
  {
   "cell_type": "markdown",
   "metadata": {},
   "source": [
    "##### .append()"
   ]
  },
  {
   "cell_type": "code",
   "execution_count": 58,
   "metadata": {},
   "outputs": [],
   "source": [
    "# list.append(<what we are adding to the end of the list>)\n",
    "name_list.append('Jacob')"
   ]
  },
  {
   "cell_type": "code",
   "execution_count": 59,
   "metadata": {},
   "outputs": [
    {
     "name": "stdout",
     "output_type": "stream",
     "text": [
      "['Daniel', 'Daniel', 'Jacob']\n"
     ]
    }
   ],
   "source": [
    "print(name_list)"
   ]
  },
  {
   "cell_type": "markdown",
   "metadata": {},
   "source": [
    "##### .insert()"
   ]
  },
  {
   "cell_type": "code",
   "execution_count": 60,
   "metadata": {},
   "outputs": [
    {
     "name": "stdout",
     "output_type": "stream",
     "text": [
      "['Dude', 'Daniel', 'Daniel', 'Jacob']\n"
     ]
    }
   ],
   "source": [
    "# insert is for adding to a specific spot in the list with what your adding\n",
    "\n",
    "name_list.insert(0,'Dude')\n",
    "\n",
    "print(name_list)"
   ]
  },
  {
   "cell_type": "markdown",
   "metadata": {},
   "source": [
    "##### .pop()"
   ]
  },
  {
   "cell_type": "code",
   "execution_count": 61,
   "metadata": {},
   "outputs": [
    {
     "name": "stdout",
     "output_type": "stream",
     "text": [
      "Jacob\n",
      "['Dude', 'Daniel', 'Daniel']\n"
     ]
    }
   ],
   "source": [
    "print(name_list.pop())\n",
    "\n",
    "print(name_list)\n"
   ]
  },
  {
   "cell_type": "code",
   "execution_count": 62,
   "metadata": {},
   "outputs": [
    {
     "ename": "SyntaxError",
     "evalue": "invalid syntax (4211680005.py, line 1)",
     "output_type": "error",
     "traceback": [
      "\u001b[1;36m  File \u001b[1;32m\"C:\\Users\\danie\\AppData\\Local\\Temp\\ipykernel_17624\\4211680005.py\"\u001b[1;36m, line \u001b[1;32m1\u001b[0m\n\u001b[1;33m    help(.pop())\u001b[0m\n\u001b[1;37m         ^\u001b[0m\n\u001b[1;31mSyntaxError\u001b[0m\u001b[1;31m:\u001b[0m invalid syntax\n"
     ]
    }
   ],
   "source": [
    "help(.pop())"
   ]
  },
  {
   "cell_type": "code",
   "execution_count": 63,
   "metadata": {},
   "outputs": [
    {
     "name": "stdout",
     "output_type": "stream",
     "text": [
      "['Daniel', 'Daniel']\n"
     ]
    }
   ],
   "source": [
    "name_list.pop(0)\n",
    "print(name_list)"
   ]
  },
  {
   "cell_type": "markdown",
   "metadata": {},
   "source": [
    "\n",
    "##### .remove()"
   ]
  },
  {
   "cell_type": "code",
   "execution_count": 64,
   "metadata": {},
   "outputs": [
    {
     "name": "stdout",
     "output_type": "stream",
     "text": [
      "['Daniel']\n"
     ]
    }
   ],
   "source": [
    "name_list.remove('Daniel')\n",
    "print(name_list)"
   ]
  },
  {
   "cell_type": "markdown",
   "metadata": {},
   "source": [
    "##### del()"
   ]
  },
  {
   "cell_type": "code",
   "execution_count": null,
   "metadata": {},
   "outputs": [],
   "source": [
    "# index to be removed, not the value\n",
    "\n",
    "# BE CAREFUL!\n",
    "\n",
    "del(name_list[3])\n",
    "print"
   ]
  },
  {
   "cell_type": "markdown",
   "metadata": {},
   "source": [
    "##### Concatenating Two Lists"
   ]
  },
  {
   "cell_type": "code",
   "execution_count": 66,
   "metadata": {},
   "outputs": [
    {
     "name": "stdout",
     "output_type": "stream",
     "text": [
      "[0, 1, 2, 3, 4, 5]\n"
     ]
    }
   ],
   "source": [
    "# will append list together , not add up the elements in each list\n",
    "\n",
    "l_2 = [0, 1, 2]\n",
    "l_3 = [ 3, 4, 5]\n",
    "\n",
    "combo = l_2 + l_3\n",
    "print(combo)"
   ]
  },
  {
   "cell_type": "markdown",
   "metadata": {},
   "source": [
    "##### Lists Within Lists"
   ]
  },
  {
   "cell_type": "code",
   "execution_count": 67,
   "metadata": {},
   "outputs": [
    {
     "name": "stdout",
     "output_type": "stream",
     "text": [
      "['max', 'sam', 'josh', ['bill', 'sally']]\n",
      "['bill', 'sally']\n"
     ]
    }
   ],
   "source": [
    "# list can hold any tyoe of element, even more lists!\n",
    "# they can be nested several layers deep\n",
    "\n",
    "new_names = ['max', 'sam', 'josh', ['bill', 'sally']]\n",
    "print(new_names) \n",
    "print(new_names[3])\n"
   ]
  },
  {
   "cell_type": "markdown",
   "metadata": {},
   "source": [
    "##### Looping Through Lists"
   ]
  },
  {
   "cell_type": "code",
   "execution_count": 68,
   "metadata": {},
   "outputs": [
    {
     "name": "stdout",
     "output_type": "stream",
     "text": [
      "Daniel\n"
     ]
    }
   ],
   "source": [
    "# two basics ways: by index or by the 'in' word\n",
    "\n",
    "for n in name_list:\n",
    "    print(n)\n",
    "for i in range(len(name_list)):\n",
    "    print(name_list[i])"
   ]
  },
  {
   "cell_type": "markdown",
   "metadata": {},
   "source": [
    "## Exercise #1 <br>\n",
    "<p>Cube Number Test... Print out all cubed numbers up to the total value 1000. Meaning that if the cubed number is over 1000 break the loop.</p>"
   ]
  },
  {
   "cell_type": "code",
   "execution_count": 152,
   "metadata": {},
   "outputs": [
    {
     "name": "stdout",
     "output_type": "stream",
     "text": [
      "0 0\n",
      "1 1\n",
      "2 8\n",
      "3 27\n",
      "4 64\n",
      "5 125\n",
      "6 216\n",
      "7 343\n",
      "8 512\n",
      "9 729\n",
      "10 1000\n"
     ]
    }
   ],
   "source": [
    "# for i in range(0,100,1):\n",
    "#     print(i,i*i*i)\n",
    "#     if i <= 1000:\n",
    "#         print(i)\n",
    "#     elif i >= 1000:\n",
    "#         break\n",
    "\n",
    "\n",
    "# for i in range(0,100,1):\n",
    "#     count **= 1\n",
    "# if count <= 1000:\n",
    "#     print(i)\n",
    "# elif count >= 1000:\n",
    "#      break\n",
    "\n",
    "for i in range(0,1000,1):\n",
    "    print(i, i*i*i)\n",
    "    if i >= 10:\n",
    "        break\n",
    "    "
   ]
  },
  {
   "cell_type": "markdown",
   "metadata": {},
   "source": [
    "## Exercise #2 <br>\n",
    "<p>Get first prime numbers up to 100</p>"
   ]
  },
  {
   "cell_type": "code",
   "execution_count": 163,
   "metadata": {},
   "outputs": [
    {
     "name": "stdout",
     "output_type": "stream",
     "text": [
      "Prime !!! 5\n",
      "Prime !!! 7\n",
      "Prime !!! 7\n",
      "Prime !!! 9\n",
      "Prime !!! 11\n",
      "Prime !!! 11\n",
      "Prime !!! 11\n",
      "Prime !!! 11\n",
      "Prime !!! 13\n",
      "Prime !!! 13\n",
      "Prime !!! 13\n",
      "Prime !!! 13\n",
      "Prime !!! 13\n",
      "Prime !!! 15\n",
      "Prime !!! 17\n",
      "Prime !!! 17\n",
      "Prime !!! 17\n",
      "Prime !!! 17\n",
      "Prime !!! 17\n",
      "Prime !!! 17\n",
      "Prime !!! 17\n",
      "Prime !!! 19\n",
      "Prime !!! 19\n",
      "Prime !!! 19\n",
      "Prime !!! 19\n",
      "Prime !!! 19\n",
      "Prime !!! 19\n",
      "Prime !!! 19\n",
      "Prime !!! 19\n",
      "Prime !!! 21\n",
      "Prime !!! 23\n",
      "Prime !!! 23\n",
      "Prime !!! 23\n",
      "Prime !!! 23\n",
      "Prime !!! 23\n",
      "Prime !!! 23\n",
      "Prime !!! 23\n",
      "Prime !!! 23\n",
      "Prime !!! 23\n",
      "Prime !!! 23\n",
      "Prime !!! 25\n",
      "Prime !!! 25\n",
      "Prime !!! 25\n",
      "Prime !!! 27\n",
      "Prime !!! 29\n",
      "Prime !!! 29\n",
      "Prime !!! 29\n",
      "Prime !!! 29\n",
      "Prime !!! 29\n",
      "Prime !!! 29\n",
      "Prime !!! 29\n",
      "Prime !!! 29\n",
      "Prime !!! 29\n",
      "Prime !!! 29\n",
      "Prime !!! 29\n",
      "Prime !!! 29\n",
      "Prime !!! 29\n",
      "Prime !!! 31\n",
      "Prime !!! 31\n",
      "Prime !!! 31\n",
      "Prime !!! 31\n",
      "Prime !!! 31\n",
      "Prime !!! 31\n",
      "Prime !!! 31\n",
      "Prime !!! 31\n",
      "Prime !!! 31\n",
      "Prime !!! 31\n",
      "Prime !!! 31\n",
      "Prime !!! 31\n",
      "Prime !!! 31\n",
      "Prime !!! 31\n",
      "Prime !!! 33\n",
      "Prime !!! 35\n",
      "Prime !!! 35\n",
      "Prime !!! 35\n",
      "Prime !!! 37\n",
      "Prime !!! 37\n",
      "Prime !!! 37\n",
      "Prime !!! 37\n",
      "Prime !!! 37\n",
      "Prime !!! 37\n",
      "Prime !!! 37\n",
      "Prime !!! 37\n",
      "Prime !!! 37\n",
      "Prime !!! 37\n",
      "Prime !!! 37\n",
      "Prime !!! 37\n",
      "Prime !!! 37\n",
      "Prime !!! 37\n",
      "Prime !!! 37\n",
      "Prime !!! 37\n",
      "Prime !!! 37\n",
      "Prime !!! 39\n",
      "Prime !!! 41\n",
      "Prime !!! 41\n",
      "Prime !!! 41\n",
      "Prime !!! 41\n",
      "Prime !!! 41\n",
      "Prime !!! 41\n",
      "Prime !!! 41\n",
      "Prime !!! 41\n",
      "Prime !!! 41\n",
      "Prime !!! 41\n",
      "Prime !!! 41\n",
      "Prime !!! 41\n",
      "Prime !!! 41\n",
      "Prime !!! 41\n",
      "Prime !!! 41\n",
      "Prime !!! 41\n",
      "Prime !!! 41\n",
      "Prime !!! 41\n",
      "Prime !!! 41\n",
      "Prime !!! 43\n",
      "Prime !!! 43\n",
      "Prime !!! 43\n",
      "Prime !!! 43\n",
      "Prime !!! 43\n",
      "Prime !!! 43\n",
      "Prime !!! 43\n",
      "Prime !!! 43\n",
      "Prime !!! 43\n",
      "Prime !!! 43\n",
      "Prime !!! 43\n",
      "Prime !!! 43\n",
      "Prime !!! 43\n",
      "Prime !!! 43\n",
      "Prime !!! 43\n",
      "Prime !!! 43\n",
      "Prime !!! 43\n",
      "Prime !!! 43\n",
      "Prime !!! 43\n",
      "Prime !!! 43\n",
      "Prime !!! 45\n",
      "Prime !!! 47\n",
      "Prime !!! 47\n",
      "Prime !!! 47\n",
      "Prime !!! 47\n",
      "Prime !!! 47\n",
      "Prime !!! 47\n",
      "Prime !!! 47\n",
      "Prime !!! 47\n",
      "Prime !!! 47\n",
      "Prime !!! 47\n",
      "Prime !!! 47\n",
      "Prime !!! 47\n",
      "Prime !!! 47\n",
      "Prime !!! 47\n",
      "Prime !!! 47\n",
      "Prime !!! 47\n",
      "Prime !!! 47\n",
      "Prime !!! 47\n",
      "Prime !!! 47\n",
      "Prime !!! 47\n",
      "Prime !!! 47\n",
      "Prime !!! 47\n",
      "Prime !!! 49\n",
      "Prime !!! 49\n",
      "Prime !!! 49\n",
      "Prime !!! 49\n",
      "Prime !!! 49\n",
      "Prime !!! 51\n",
      "Prime !!! 53\n",
      "Prime !!! 53\n",
      "Prime !!! 53\n",
      "Prime !!! 53\n",
      "Prime !!! 53\n",
      "Prime !!! 53\n",
      "Prime !!! 53\n",
      "Prime !!! 53\n",
      "Prime !!! 53\n",
      "Prime !!! 53\n",
      "Prime !!! 53\n",
      "Prime !!! 53\n",
      "Prime !!! 53\n",
      "Prime !!! 53\n",
      "Prime !!! 53\n",
      "Prime !!! 53\n",
      "Prime !!! 53\n",
      "Prime !!! 53\n",
      "Prime !!! 53\n",
      "Prime !!! 53\n",
      "Prime !!! 53\n",
      "Prime !!! 53\n",
      "Prime !!! 53\n",
      "Prime !!! 53\n",
      "Prime !!! 53\n",
      "Prime !!! 55\n",
      "Prime !!! 55\n",
      "Prime !!! 55\n",
      "Prime !!! 57\n",
      "Prime !!! 59\n",
      "Prime !!! 59\n",
      "Prime !!! 59\n",
      "Prime !!! 59\n",
      "Prime !!! 59\n",
      "Prime !!! 59\n",
      "Prime !!! 59\n",
      "Prime !!! 59\n",
      "Prime !!! 59\n",
      "Prime !!! 59\n",
      "Prime !!! 59\n",
      "Prime !!! 59\n",
      "Prime !!! 59\n",
      "Prime !!! 59\n",
      "Prime !!! 59\n",
      "Prime !!! 59\n",
      "Prime !!! 59\n",
      "Prime !!! 59\n",
      "Prime !!! 59\n",
      "Prime !!! 59\n",
      "Prime !!! 59\n",
      "Prime !!! 59\n",
      "Prime !!! 59\n",
      "Prime !!! 59\n",
      "Prime !!! 59\n",
      "Prime !!! 59\n",
      "Prime !!! 59\n",
      "Prime !!! 59\n",
      "Prime !!! 61\n",
      "Prime !!! 61\n",
      "Prime !!! 61\n",
      "Prime !!! 61\n",
      "Prime !!! 61\n",
      "Prime !!! 61\n",
      "Prime !!! 61\n",
      "Prime !!! 61\n",
      "Prime !!! 61\n",
      "Prime !!! 61\n",
      "Prime !!! 61\n",
      "Prime !!! 61\n",
      "Prime !!! 61\n",
      "Prime !!! 61\n",
      "Prime !!! 61\n",
      "Prime !!! 61\n",
      "Prime !!! 61\n",
      "Prime !!! 61\n",
      "Prime !!! 61\n",
      "Prime !!! 61\n",
      "Prime !!! 61\n",
      "Prime !!! 61\n",
      "Prime !!! 61\n",
      "Prime !!! 61\n",
      "Prime !!! 61\n",
      "Prime !!! 61\n",
      "Prime !!! 61\n",
      "Prime !!! 61\n",
      "Prime !!! 61\n",
      "Prime !!! 63\n",
      "Prime !!! 65\n",
      "Prime !!! 65\n",
      "Prime !!! 65\n",
      "Prime !!! 67\n",
      "Prime !!! 67\n",
      "Prime !!! 67\n",
      "Prime !!! 67\n",
      "Prime !!! 67\n",
      "Prime !!! 67\n",
      "Prime !!! 67\n",
      "Prime !!! 67\n",
      "Prime !!! 67\n",
      "Prime !!! 67\n",
      "Prime !!! 67\n",
      "Prime !!! 67\n",
      "Prime !!! 67\n",
      "Prime !!! 67\n",
      "Prime !!! 67\n",
      "Prime !!! 67\n",
      "Prime !!! 67\n",
      "Prime !!! 67\n",
      "Prime !!! 67\n",
      "Prime !!! 67\n",
      "Prime !!! 67\n",
      "Prime !!! 67\n",
      "Prime !!! 67\n",
      "Prime !!! 67\n",
      "Prime !!! 67\n",
      "Prime !!! 67\n",
      "Prime !!! 67\n",
      "Prime !!! 67\n",
      "Prime !!! 67\n",
      "Prime !!! 67\n",
      "Prime !!! 67\n",
      "Prime !!! 67\n",
      "Prime !!! 69\n",
      "Prime !!! 71\n",
      "Prime !!! 71\n",
      "Prime !!! 71\n",
      "Prime !!! 71\n",
      "Prime !!! 71\n",
      "Prime !!! 71\n",
      "Prime !!! 71\n",
      "Prime !!! 71\n",
      "Prime !!! 71\n",
      "Prime !!! 71\n",
      "Prime !!! 71\n",
      "Prime !!! 71\n",
      "Prime !!! 71\n",
      "Prime !!! 71\n",
      "Prime !!! 71\n",
      "Prime !!! 71\n",
      "Prime !!! 71\n",
      "Prime !!! 71\n",
      "Prime !!! 71\n",
      "Prime !!! 71\n",
      "Prime !!! 71\n",
      "Prime !!! 71\n",
      "Prime !!! 71\n",
      "Prime !!! 71\n",
      "Prime !!! 71\n",
      "Prime !!! 71\n",
      "Prime !!! 71\n",
      "Prime !!! 71\n",
      "Prime !!! 71\n",
      "Prime !!! 71\n",
      "Prime !!! 71\n",
      "Prime !!! 71\n",
      "Prime !!! 71\n",
      "Prime !!! 71\n",
      "Prime !!! 73\n",
      "Prime !!! 73\n",
      "Prime !!! 73\n",
      "Prime !!! 73\n",
      "Prime !!! 73\n",
      "Prime !!! 73\n",
      "Prime !!! 73\n",
      "Prime !!! 73\n",
      "Prime !!! 73\n",
      "Prime !!! 73\n",
      "Prime !!! 73\n",
      "Prime !!! 73\n",
      "Prime !!! 73\n",
      "Prime !!! 73\n",
      "Prime !!! 73\n",
      "Prime !!! 73\n",
      "Prime !!! 73\n",
      "Prime !!! 73\n",
      "Prime !!! 73\n",
      "Prime !!! 73\n",
      "Prime !!! 73\n",
      "Prime !!! 73\n",
      "Prime !!! 73\n",
      "Prime !!! 73\n",
      "Prime !!! 73\n",
      "Prime !!! 73\n",
      "Prime !!! 73\n",
      "Prime !!! 73\n",
      "Prime !!! 73\n",
      "Prime !!! 73\n",
      "Prime !!! 73\n",
      "Prime !!! 73\n",
      "Prime !!! 73\n",
      "Prime !!! 73\n",
      "Prime !!! 73\n",
      "Prime !!! 75\n",
      "Prime !!! 77\n",
      "Prime !!! 77\n",
      "Prime !!! 77\n",
      "Prime !!! 77\n",
      "Prime !!! 77\n",
      "Prime !!! 79\n",
      "Prime !!! 79\n",
      "Prime !!! 79\n",
      "Prime !!! 79\n",
      "Prime !!! 79\n",
      "Prime !!! 79\n",
      "Prime !!! 79\n",
      "Prime !!! 79\n",
      "Prime !!! 79\n",
      "Prime !!! 79\n",
      "Prime !!! 79\n",
      "Prime !!! 79\n",
      "Prime !!! 79\n",
      "Prime !!! 79\n",
      "Prime !!! 79\n",
      "Prime !!! 79\n",
      "Prime !!! 79\n",
      "Prime !!! 79\n",
      "Prime !!! 79\n",
      "Prime !!! 79\n",
      "Prime !!! 79\n",
      "Prime !!! 79\n",
      "Prime !!! 79\n",
      "Prime !!! 79\n",
      "Prime !!! 79\n",
      "Prime !!! 79\n",
      "Prime !!! 79\n",
      "Prime !!! 79\n",
      "Prime !!! 79\n",
      "Prime !!! 79\n",
      "Prime !!! 79\n",
      "Prime !!! 79\n",
      "Prime !!! 79\n",
      "Prime !!! 79\n",
      "Prime !!! 79\n",
      "Prime !!! 79\n",
      "Prime !!! 79\n",
      "Prime !!! 79\n",
      "Prime !!! 81\n",
      "Prime !!! 83\n",
      "Prime !!! 83\n",
      "Prime !!! 83\n",
      "Prime !!! 83\n",
      "Prime !!! 83\n",
      "Prime !!! 83\n",
      "Prime !!! 83\n",
      "Prime !!! 83\n",
      "Prime !!! 83\n",
      "Prime !!! 83\n",
      "Prime !!! 83\n",
      "Prime !!! 83\n",
      "Prime !!! 83\n",
      "Prime !!! 83\n",
      "Prime !!! 83\n",
      "Prime !!! 83\n",
      "Prime !!! 83\n",
      "Prime !!! 83\n",
      "Prime !!! 83\n",
      "Prime !!! 83\n",
      "Prime !!! 83\n",
      "Prime !!! 83\n",
      "Prime !!! 83\n",
      "Prime !!! 83\n",
      "Prime !!! 83\n",
      "Prime !!! 83\n",
      "Prime !!! 83\n",
      "Prime !!! 83\n",
      "Prime !!! 83\n",
      "Prime !!! 83\n",
      "Prime !!! 83\n",
      "Prime !!! 83\n",
      "Prime !!! 83\n",
      "Prime !!! 83\n",
      "Prime !!! 83\n",
      "Prime !!! 83\n",
      "Prime !!! 83\n",
      "Prime !!! 83\n",
      "Prime !!! 83\n",
      "Prime !!! 83\n",
      "Prime !!! 85\n",
      "Prime !!! 85\n",
      "Prime !!! 85\n",
      "Prime !!! 87\n",
      "Prime !!! 89\n",
      "Prime !!! 89\n",
      "Prime !!! 89\n",
      "Prime !!! 89\n",
      "Prime !!! 89\n",
      "Prime !!! 89\n",
      "Prime !!! 89\n",
      "Prime !!! 89\n",
      "Prime !!! 89\n",
      "Prime !!! 89\n",
      "Prime !!! 89\n",
      "Prime !!! 89\n",
      "Prime !!! 89\n",
      "Prime !!! 89\n",
      "Prime !!! 89\n",
      "Prime !!! 89\n",
      "Prime !!! 89\n",
      "Prime !!! 89\n",
      "Prime !!! 89\n",
      "Prime !!! 89\n",
      "Prime !!! 89\n",
      "Prime !!! 89\n",
      "Prime !!! 89\n",
      "Prime !!! 89\n",
      "Prime !!! 89\n",
      "Prime !!! 89\n",
      "Prime !!! 89\n",
      "Prime !!! 89\n",
      "Prime !!! 89\n",
      "Prime !!! 89\n",
      "Prime !!! 89\n",
      "Prime !!! 89\n",
      "Prime !!! 89\n",
      "Prime !!! 89\n",
      "Prime !!! 89\n",
      "Prime !!! 89\n",
      "Prime !!! 89\n",
      "Prime !!! 89\n",
      "Prime !!! 89\n",
      "Prime !!! 89\n",
      "Prime !!! 89\n",
      "Prime !!! 89\n",
      "Prime !!! 89\n",
      "Prime !!! 91\n",
      "Prime !!! 91\n",
      "Prime !!! 91\n",
      "Prime !!! 91\n",
      "Prime !!! 91\n",
      "Prime !!! 93\n",
      "Prime !!! 95\n",
      "Prime !!! 95\n",
      "Prime !!! 95\n",
      "Prime !!! 97\n",
      "Prime !!! 97\n",
      "Prime !!! 97\n",
      "Prime !!! 97\n",
      "Prime !!! 97\n",
      "Prime !!! 97\n",
      "Prime !!! 97\n",
      "Prime !!! 97\n",
      "Prime !!! 97\n",
      "Prime !!! 97\n",
      "Prime !!! 97\n",
      "Prime !!! 97\n",
      "Prime !!! 97\n",
      "Prime !!! 97\n",
      "Prime !!! 97\n",
      "Prime !!! 97\n",
      "Prime !!! 97\n",
      "Prime !!! 97\n",
      "Prime !!! 97\n",
      "Prime !!! 97\n",
      "Prime !!! 97\n",
      "Prime !!! 97\n",
      "Prime !!! 97\n",
      "Prime !!! 97\n",
      "Prime !!! 97\n",
      "Prime !!! 97\n",
      "Prime !!! 97\n",
      "Prime !!! 97\n",
      "Prime !!! 97\n",
      "Prime !!! 97\n",
      "Prime !!! 97\n",
      "Prime !!! 97\n",
      "Prime !!! 97\n",
      "Prime !!! 97\n",
      "Prime !!! 97\n",
      "Prime !!! 97\n",
      "Prime !!! 97\n",
      "Prime !!! 97\n",
      "Prime !!! 97\n",
      "Prime !!! 97\n",
      "Prime !!! 97\n",
      "Prime !!! 97\n",
      "Prime !!! 97\n",
      "Prime !!! 97\n",
      "Prime !!! 97\n",
      "Prime !!! 97\n",
      "Prime !!! 97\n",
      "Prime !!! 99\n"
     ]
    }
   ],
   "source": [
    "# HINT::\n",
    "# An else after an if runs if the if didn’t\n",
    "# An else after a for runs if the for didn’t break\n",
    "\n",
    "for i in range(2,101):\n",
    "#     print(f'i - {i}')\n",
    "    flag = True\n",
    "    for j in range(2,i//2+1):\n",
    "#         print(f'\\tj-{j}')\n",
    "        if i%j ==0:\n",
    "            break\n",
    "    \n",
    "        print('Prime !!!', i)\n",
    "\n"
   ]
  },
  {
   "cell_type": "markdown",
   "metadata": {},
   "source": [
    "# Exercise 3 <br>\n",
    "<p>Take in a users input for their age, if they are younger than 18 print kids, if they're 18 to 65 print adults, else print seniors</p>"
   ]
  },
  {
   "cell_type": "code",
   "execution_count": 153,
   "metadata": {},
   "outputs": [
    {
     "name": "stdout",
     "output_type": "stream",
     "text": [
      "What is your age? 85\n",
      "You are a senior.\n"
     ]
    }
   ],
   "source": [
    "age = int(input('What is your age? '))\n",
    "if age < 17:\n",
    "    print('You are a kid.')\n",
    "elif age > 18 and age < 65:\n",
    "    print('You are a adult.')\n",
    "else:\n",
    "    print('You are a senior.')"
   ]
  }
 ],
 "metadata": {
  "kernelspec": {
   "display_name": "Python 3 (ipykernel)",
   "language": "python",
   "name": "python3"
  },
  "language_info": {
   "codemirror_mode": {
    "name": "ipython",
    "version": 3
   },
   "file_extension": ".py",
   "mimetype": "text/x-python",
   "name": "python",
   "nbconvert_exporter": "python",
   "pygments_lexer": "ipython3",
   "version": "3.9.13"
  }
 },
 "nbformat": 4,
 "nbformat_minor": 2
}
